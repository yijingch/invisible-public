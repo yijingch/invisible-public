{
 "cells": [
  {
   "cell_type": "code",
   "execution_count": 1,
   "id": "440c3fa5",
   "metadata": {},
   "outputs": [
    {
     "name": "stdout",
     "output_type": "stream",
     "text": [
      "{'ROOTPATH': '/Users/yijingch/Documents/GITHUB/invisible-public/', 'ROOTPATH2': '/Users/yijingch/Documents/GITHUB/dd-full/', 'DATAPATH': '/Users/yijingch/Documents/GITHUB/dd-full/data/', 'DATAPATH2': '/Users/yijingch/Documents/GITHUB/collect-youtube-content/data/', 'INDEXPATH': '/Users/yijingch/Documents/GITHUB/dd-full/index/', 'START': datetime.datetime(2018, 5, 1, 0, 0), 'END': datetime.datetime(2023, 5, 1, 0, 0)}\n",
      "2018-05-01 00:00:00\n",
      "2023-05-01 00:00:00\n"
     ]
    }
   ],
   "source": [
    "import pandas as pd \n",
    "import numpy as np \n",
    "from src.utils.preprocess import get_videoid\n",
    "\n",
    "import matplotlib.pyplot as plt\n",
    "import matplotlib_inline.backend_inline\n",
    "matplotlib_inline.backend_inline.set_matplotlib_formats(\"retina\")\n",
    "\n",
    "import yaml\n",
    "with open(\"../../src/configs.yml\", \"r\") as configs:\n",
    "    configs = yaml.safe_load(configs)\n",
    "\n",
    "ROOTPATH = configs[\"ROOTPATH\"]\n",
    "DATAPATH = configs[\"DATAPATH\"]\n",
    "ROOTPATH2 = configs[\"ROOTPATH2\"]\n",
    "\n",
    "START = configs[\"START\"]\n",
    "END = configs[\"END\"]\n",
    "print(configs)\n",
    "print(START)\n",
    "print(END)"
   ]
  },
  {
   "cell_type": "markdown",
   "id": "5282f911",
   "metadata": {},
   "source": [
    "## Load data"
   ]
  },
  {
   "cell_type": "code",
   "execution_count": 2,
   "id": "54792f6a",
   "metadata": {},
   "outputs": [],
   "source": [
    "view_all = pd.read_csv(DATAPATH + \"youtube/yt_watch.csv\", sep=\";\")\n",
    "view_all = view_all[[\"respondent_id\",\"titleUrl\",\"channel_url\", \"timestamp\"]].rename(columns={\"titleUrl\":\"video_url\"})\n",
    "view_all[\"channel_id\"] = view_all[\"channel_url\"].map(lambda x: x.split(\"/\")[-1] if str(x)!= \"nan\" else np.NaN)\n",
    "view_all[\"video_id\"] = view_all[\"video_url\"].map(lambda x: get_videoid(x))\n",
    "# view_all = view_all.dropna(subset = [\"respondent_id\", \"video_id\", \"channel_id\"])[[\"respondent_id\",\"channel_id\",\"video_id\",\"timestamp\"]]\n",
    "view_all = view_all[[\"respondent_id\",\"channel_id\",\"video_id\",\"timestamp\"]] # no longer dropna \n",
    "\n",
    "subscribe_all = pd.read_csv(DATAPATH + \"youtube/yt_subscriptions.csv\", sep=\";\")[[\"respondent_id\",\"channel_id\"]]\n",
    "\n",
    "comment_all = pd.read_csv(DATAPATH + \"youtube/yt_comments_from2018may_to2023may_new.csv\", sep=\";\").rename(columns={\"snippet.channelId\":\"channel_id\"})\n",
    "comment_all = comment_all[[\"respondent_id\",\"video_id\", \"channel_id\"]] # no longer drop na\n",
    "comment_public = pd.read_pickle(DATAPATH + \"youtube/yt_comments_public_061824.pkl\")\n",
    "\n",
    "view_all[\"timestamp\"] = pd.to_datetime(view_all[\"timestamp\"])\n",
    "view_all = view_all[(view_all[\"timestamp\"]>=START)&(view_all[\"timestamp\"]<=END)].copy()\n",
    "\n",
    "comment_public[\"timestamp\"] = pd.to_datetime(comment_public[\"published_at\"]).dt.tz_localize(None)\n",
    "comment_public = comment_public[(comment_public[\"timestamp\"]>=START)&(comment_public[\"timestamp\"]<=END)].copy()\n",
    "# subscribing data cannot be filtered; sample comment is already filtered"
   ]
  },
  {
   "cell_type": "code",
   "execution_count": 3,
   "id": "eb2012af",
   "metadata": {},
   "outputs": [
    {
     "name": "stdout",
     "output_type": "stream",
     "text": [
      "# of viewers: 690\n",
      "# of subscribers: 680\n",
      "# of commenters: 314\n"
     ]
    }
   ],
   "source": [
    "THESE_VIEWERS = set(view_all[\"respondent_id\"].tolist())\n",
    "THESE_SUBSCRIBERS = set(subscribe_all[\"respondent_id\"].tolist())\n",
    "THESE_COMMENTERS = set(comment_all[\"respondent_id\"].tolist())\n",
    "\n",
    "print(\"# of viewers:\", len(THESE_VIEWERS))\n",
    "print(\"# of subscribers:\", len(THESE_SUBSCRIBERS))\n",
    "print(\"# of commenters:\", len(THESE_COMMENTERS))"
   ]
  },
  {
   "cell_type": "code",
   "execution_count": 4,
   "id": "20deedc1",
   "metadata": {},
   "outputs": [
    {
     "name": "stdout",
     "output_type": "stream",
     "text": [
      "# of respondents who have youtube activities: (the sample of NBR) 735\n"
     ]
    }
   ],
   "source": [
    "pol_df = pd.read_csv(DATAPATH + \"survey/pol_survey_cleaned_NEW_INCLUDEALL.csv\").rename(columns={\"user_id\":\"respondent_id\"})\n",
    "\n",
    "# get new weights [new!]\n",
    "pol_df.drop(columns=[\"weight\"], inplace=True)\n",
    "new_weights = pd.read_spss(DATAPATH + \"survey/TK_DataDonation_eng.sav\")[[\"respondent_id\",\"weight\"]]\n",
    "new_weights[\"respondent_id\"] = new_weights[\"respondent_id\"].map(lambda x: int(x))\n",
    "pol_df = pol_df.merge(new_weights, on=\"respondent_id\", how=\"left\")\n",
    "\n",
    "set1 = set(view_all[\"respondent_id\"].unique()).union(set(subscribe_all[\"respondent_id\"].unique())).union(set(comment_all[\"respondent_id\"].unique()))\n",
    "set2 = set1.intersection(set(pol_df[\"respondent_id\"].unique()))\n",
    "print(\"# of respondents who have youtube activities: (the sample of NBR)\", len(set2)) "
   ]
  },
  {
   "cell_type": "markdown",
   "id": "e902793e",
   "metadata": {},
   "source": [
    "## Load channel labels"
   ]
  },
  {
   "cell_type": "code",
   "execution_count": 5,
   "id": "f532e2ee",
   "metadata": {},
   "outputs": [
    {
     "name": "stdout",
     "output_type": "stream",
     "text": [
      "1 0 # of channels 149\n",
      "2 -1 # of channels 276\n",
      "3 1 # of channels 139\n"
     ]
    }
   ],
   "source": [
    "channel_labels_all = pd.read_excel(ROOTPATH2 + \"index/yt_polclass_20240627.xlsx\")\n",
    "channel_labels_all\n",
    "\n",
    "label_col = \"classification_lvl1_4cat\"\n",
    "LABEL_MAP = {\n",
    "    1: 0, # neutral \n",
    "    2: -1, # anti-gov \n",
    "    3: 1, # pro-gov\n",
    "}\n",
    "\n",
    "channel_labels = channel_labels_all[channel_labels_all[label_col].isin(LABEL_MAP.keys())]\n",
    "\n",
    "CHANNEL_LABEL_MAP = {}\n",
    "for lab,val in LABEL_MAP.items():\n",
    "    channel_subdf = channel_labels[channel_labels[label_col]==lab]\n",
    "    these_channels = set(channel_subdf[\"channel_id\"].tolist())\n",
    "    print(lab, val, \"# of channels\", len(these_channels))\n",
    "    for this_ch in these_channels:\n",
    "        CHANNEL_LABEL_MAP[this_ch] = val \n",
    "\n",
    "CHANNEL_LABEL_MAP[\"UCKY8HrMpm32WAMK0lauLAZA\"] = {\"before\":-1, \"after\":1} "
   ]
  },
  {
   "cell_type": "code",
   "execution_count": 6,
   "id": "97eebf7a",
   "metadata": {},
   "outputs": [],
   "source": [
    "# get hungarian political channels \n",
    "these_channels = CHANNEL_LABEL_MAP.keys()\n",
    "pol_view = view_all[view_all[\"channel_id\"].isin(these_channels)].copy()\n",
    "pol_subscribe = subscribe_all[subscribe_all[\"channel_id\"].isin(these_channels)].copy()\n",
    "pol_comment = comment_all[comment_all[\"channel_id\"].isin(these_channels)].copy()\n",
    "pol_comment_public = comment_public[comment_public[\"channel_id\"].isin(these_channels)].copy()"
   ]
  },
  {
   "cell_type": "code",
   "execution_count": 7,
   "id": "9abf4c4b",
   "metadata": {},
   "outputs": [],
   "source": [
    "# aggregate by user\n",
    "aggr_view = pol_view.groupby(\"respondent_id\").agg({\"video_id\":lambda x:len(set(x))}).reset_index()\n",
    "aggr_subscribe = pol_subscribe.groupby(\"respondent_id\").agg({\"channel_id\":lambda x:len(set(x))}).reset_index()\n",
    "aggr_comment = pol_comment.groupby(\"respondent_id\").agg({\"video_id\":lambda x:len(set(x))}).reset_index()"
   ]
  },
  {
   "cell_type": "markdown",
   "id": "2bfdb5c1",
   "metadata": {},
   "source": [
    "## Select DVs and IVs"
   ]
  },
  {
   "cell_type": "code",
   "execution_count": 8,
   "id": "7e41ca0c",
   "metadata": {},
   "outputs": [],
   "source": [
    "cols = [\"respondent_id\", \"weight\", \"gender\", \"age\", \"interest_politics\", \"education\", \"feel_thm_fdsz\", \"lftRght\"]\n",
    "reg_table = pol_df[cols].merge(aggr_view, how=\"left\").rename(columns={\"video_id\":\"view_counts\"})\n",
    "reg_table = reg_table.merge(aggr_subscribe, how=\"left\").rename(columns={\"channel_id\":\"subscribe_counts\"})\n",
    "reg_table = reg_table.merge(aggr_comment, how=\"left\").rename(columns={\"video_id\":\"comment_counts\"})\n",
    "\n",
    "# replace missing value\n",
    "reg_table[\"view_counts\"] = reg_table[\"view_counts\"].replace(np.NaN, 0)\n",
    "reg_table[\"comment_counts\"] = reg_table[\"comment_counts\"].replace(np.NaN, 0)\n",
    "reg_table[\"subscribe_counts\"] = reg_table[\"subscribe_counts\"].replace(np.NaN, 0)\n",
    "\n",
    "reg_table[\"feel_thm_fdsz\"] = reg_table[\"feel_thm_fdsz\"].replace(np.NaN, 5)\n",
    "reg_table[\"lftRght\"] = reg_table[\"lftRght\"].replace(np.NaN, 4)\n",
    "\n",
    "# compute extremity values\n",
    "reg_table[\"extreme_lftRght\"] = reg_table[\"lftRght\"].map(lambda x: abs(x-4))\n",
    "reg_table[\"extreme_antiPro\"] = reg_table[\"feel_thm_fdsz\"].map(lambda x:abs(x-5))"
   ]
  },
  {
   "cell_type": "code",
   "execution_count": 9,
   "id": "1d9ac61a",
   "metadata": {},
   "outputs": [
    {
     "name": "stdout",
     "output_type": "stream",
     "text": [
      "left-group: 177\n",
      "center-group: 324\n",
      "right-group: 257\n",
      "progov-group: 114\n",
      "neutral-group: 294\n",
      "antigov-group: 350\n"
     ]
    }
   ],
   "source": [
    "# bin variables\n",
    "def bin_variable(val, var_range):\n",
    "    out = 0\n",
    "    if not np.isnan(val):\n",
    "        if val <= var_range[1] and val >= var_range[0]:\n",
    "            out = 1\n",
    "    return out\n",
    "\n",
    "reg_table[\"if_left\"] = reg_table[\"lftRght\"].map(lambda x: bin_variable(x, [1,3]))\n",
    "reg_table[\"if_center\"] = reg_table[\"lftRght\"].map(lambda x: bin_variable(x, [4,4]))\n",
    "reg_table[\"if_right\"] = reg_table[\"lftRght\"].map(lambda x: bin_variable(x, [5,7]))\n",
    "reg_table[\"if_antigov\"] = reg_table[\"feel_thm_fdsz\"].map(lambda x: bin_variable(x, [0,2]))\n",
    "reg_table[\"if_neutral\"] = reg_table[\"feel_thm_fdsz\"].map(lambda x: bin_variable(x, [3,7]))\n",
    "reg_table[\"if_progov\"] = reg_table[\"feel_thm_fdsz\"].map(lambda x: bin_variable(x, [8,10]))\n",
    "\n",
    "print(\"left-group:\", len(reg_table[reg_table[\"if_left\"]==1]))\n",
    "print(\"center-group:\", len(reg_table[reg_table[\"if_center\"]==1]))\n",
    "print(\"right-group:\", len(reg_table[reg_table[\"if_right\"]==1]))\n",
    "\n",
    "print(\"progov-group:\", len(reg_table[reg_table[\"if_progov\"]==1]))\n",
    "print(\"neutral-group:\", len(reg_table[reg_table[\"if_neutral\"]==1]))\n",
    "print(\"antigov-group:\", len(reg_table[reg_table[\"if_antigov\"]==1]))"
   ]
  },
  {
   "cell_type": "markdown",
   "id": "9eb76652",
   "metadata": {},
   "source": [
    "## Add timespan of user activity"
   ]
  },
  {
   "cell_type": "code",
   "execution_count": 10,
   "id": "3dab1549",
   "metadata": {},
   "outputs": [],
   "source": [
    "import math\n",
    "from datetime import timedelta\n",
    "\n",
    "def calculate_overlap(start1, end1, start2, end2):\n",
    "    latest_start = max(start1, start2)\n",
    "    earliest_end = min(end1, end2)\n",
    "\n",
    "    if latest_start > earliest_end:\n",
    "        return np.NaN\n",
    "    elif earliest_end == latest_start:\n",
    "        return np.NaN\n",
    "    else:\n",
    "        overlap = earliest_end - latest_start\n",
    "        if pd.isnull(overlap):\n",
    "            return np.NaN \n",
    "        else:\n",
    "            return math.ceil(overlap/np.timedelta64(1,\"M\"))"
   ]
  },
  {
   "cell_type": "code",
   "execution_count": 11,
   "id": "dbb5f9fd",
   "metadata": {},
   "outputs": [],
   "source": [
    "def get_minmax_activity(date1, date2, mode=\"min\"):\n",
    "    out = np.NaN\n",
    "    if not pd.isnull(date1) and pd.isnull(date2):\n",
    "        out = date1\n",
    "    elif pd.isnull(date1) and not pd.isnull(date2):\n",
    "        out = date2 \n",
    "    else:\n",
    "        if mode == \"min\":\n",
    "            out = min(date1, date2)\n",
    "        if mode == \"max\":\n",
    "            out = max(date1, date2)\n",
    "    return out\n",
    "\n",
    "resp_activity = pd.read_csv(\"../../data/youtube/yt_resplevel_data.csv\")\n",
    "for col in [\"first_video\", \"last_video\", \"first_comment\", \"last_comment\"]:\n",
    "    resp_activity[col] = pd.to_datetime(resp_activity[col])\n",
    "resp_activity[\"first_activity\"] = resp_activity.apply(lambda x: get_minmax_activity(x[\"first_video\"],x[\"first_comment\"],mode=\"min\"), axis=1)\n",
    "resp_activity[\"last_activity\"] = resp_activity.apply(lambda x: get_minmax_activity(x[\"last_video\"],x[\"last_comment\"],mode=\"max\"), axis=1)\n",
    "resp_activity[\"timespan\"] = resp_activity.apply(lambda x: calculate_overlap(x[\"first_activity\"], x[\"last_activity\"], pd.to_datetime(START), pd.to_datetime(END)), axis=1)\n"
   ]
  },
  {
   "cell_type": "code",
   "execution_count": 12,
   "id": "be056f5b",
   "metadata": {},
   "outputs": [],
   "source": [
    "# select users who have youtube activities\n",
    "reg_table = reg_table.merge(resp_activity[[\"respondent_id\", \"timespan\"]], how=\"left\")\n",
    "reg_table = reg_table[reg_table[\"respondent_id\"].isin(set2)]"
   ]
  },
  {
   "cell_type": "markdown",
   "id": "80e2c1a2",
   "metadata": {},
   "source": [
    "## Fill NAs in timespan"
   ]
  },
  {
   "cell_type": "code",
   "execution_count": 13,
   "id": "8c16da3d",
   "metadata": {},
   "outputs": [
    {
     "name": "stdout",
     "output_type": "stream",
     "text": [
      "50.66571834992887\n",
      "32\n",
      "[1072184]\n",
      "[397292, 824358, 1084965, 1228983]\n",
      "[1072184, 397292, 485517, 722586, 824358, 1084965, 1143822]\n"
     ]
    }
   ],
   "source": [
    "print(reg_table[\"timespan\"].mean())\n",
    "\n",
    "na_people = reg_table[reg_table[\"timespan\"].isna()][\"respondent_id\"].unique()\n",
    "print(len(na_people))\n",
    "\n",
    "# check people who only has one activity \n",
    "print(view_all[view_all[\"respondent_id\"].isin(na_people)][\"respondent_id\"].tolist())\n",
    "print(comment_all[comment_all[\"respondent_id\"].isin(na_people)][\"respondent_id\"].tolist())\n",
    "print(resp_activity[resp_activity[\"first_activity\"]==resp_activity[\"last_activity\"]][\"respondent_id\"].tolist())"
   ]
  },
  {
   "cell_type": "code",
   "execution_count": 14,
   "id": "24ae6172",
   "metadata": {},
   "outputs": [
    {
     "name": "stdout",
     "output_type": "stream",
     "text": [
      "0\n"
     ]
    }
   ],
   "source": [
    "IMPUTE_DICT = reg_table[[\"respondent_id\",\"timespan\"]].set_index(\"respondent_id\").to_dict()[\"timespan\"]\n",
    "IMPUTE_DICT\n",
    "\n",
    "one_activity_resps = [1072184, 397292, 824358, 1084965]\n",
    "for resp,t in IMPUTE_DICT.items():\n",
    "    if str(t) == \"nan\":\n",
    "        if resp in one_activity_resps:\n",
    "            IMPUTE_DICT[resp] = 1\n",
    "        else:\n",
    "            IMPUTE_DICT[resp] = round(reg_table[\"timespan\"].mean())\n",
    "reg_table[\"timespan_imputed\"] = reg_table[\"respondent_id\"].map(lambda x: IMPUTE_DICT[x])\n",
    "\n",
    "# after imputation: should be 0\n",
    "print(len(reg_table[reg_table[\"timespan\"]==0]))"
   ]
  },
  {
   "cell_type": "code",
   "execution_count": 15,
   "id": "1b5b46ec",
   "metadata": {},
   "outputs": [
    {
     "data": {
      "text/plain": [
       "Text(0.5, 0, 'timespan: # of months')"
      ]
     },
     "execution_count": 15,
     "metadata": {},
     "output_type": "execute_result"
    },
    {
     "data": {
      "image/png": "[encoded data removed]",
      "text/plain": [
       "<Figure size 400x200 with 1 Axes>"
      ]
     },
     "metadata": {
      "image/png": {
       "height": 219,
       "width": 388
      }
     },
     "output_type": "display_data"
    }
   ],
   "source": [
    "fig,ax = plt.subplots(figsize=(4,2))\n",
    "plt.hist(reg_table[\"timespan_imputed\"], bins=20, color=\"black\")\n",
    "plt.ylabel(\"# of respondents\", fontsize=12)\n",
    "plt.xlabel(\"timespan: # of months\", fontsize=12)"
   ]
  },
  {
   "cell_type": "markdown",
   "id": "d2c4947a",
   "metadata": {},
   "source": [
    "## Add columns to indicate whether a respondent has a certain activity"
   ]
  },
  {
   "cell_type": "code",
   "execution_count": 16,
   "id": "ca263934",
   "metadata": {},
   "outputs": [
    {
     "name": "stdout",
     "output_type": "stream",
     "text": [
      "# of users who view 690\n",
      "# of users who subscribe 680\n",
      "# of users who comment 314\n"
     ]
    }
   ],
   "source": [
    "reg_table[\"if_view\"] = reg_table[\"respondent_id\"].map(lambda x: 1 if x in THESE_VIEWERS else 0)\n",
    "reg_table[\"if_subscribe\"] = reg_table[\"respondent_id\"].map(lambda x: 1 if x in THESE_SUBSCRIBERS else 0)\n",
    "reg_table[\"if_comment\"] = reg_table[\"respondent_id\"].map(lambda x: 1 if x in THESE_COMMENTERS else 0)\n",
    "\n",
    "print(\"# of users who view\", len(reg_table[reg_table[\"if_view\"]==1]))\n",
    "print(\"# of users who subscribe\", len(reg_table[reg_table[\"if_subscribe\"]==1]))\n",
    "print(\"# of users who comment\", len(reg_table[reg_table[\"if_comment\"]==1]))"
   ]
  },
  {
   "cell_type": "code",
   "execution_count": 17,
   "id": "faf23997",
   "metadata": {},
   "outputs": [],
   "source": [
    "# uncomment this if I want to save the table\n",
    "# reg_table.to_csv(\"../../output/reg_table_filter_ytb_activities_122324.csv\", index=False)"
   ]
  },
  {
   "cell_type": "markdown",
   "id": "29857993",
   "metadata": {},
   "source": [
    "## add channel categories breakdown"
   ]
  },
  {
   "cell_type": "code",
   "execution_count": 18,
   "id": "30228e43",
   "metadata": {},
   "outputs": [],
   "source": [
    "def get_channel_label(channel_id, label_map, before_after=\"\"):\n",
    "    if before_after == \"\":\n",
    "        return label_map[channel_id]\n",
    "    else:\n",
    "        return label_map[channel_id][before_after]\n",
    "\n",
    "def count_channel_label(channel_ls, label_map=CHANNEL_LABEL_MAP):\n",
    "    label_ls = []\n",
    "    for c in channel_ls:\n",
    "        if c in label_map.keys():\n",
    "            if c == \"UCKY8HrMpm32WAMK0lauLAZA\":\n",
    "                lab = get_channel_label(c, label_map=label_map, before_after=\"after\")\n",
    "            else:\n",
    "                lab = get_channel_label(c, label_map=label_map)\n",
    "            label_ls.append(lab)\n",
    "    label_counter = {-1:0, 0:0, 1:0}\n",
    "    for l in label_ls:\n",
    "        label_counter[l] += 1\n",
    "    return label_counter\n",
    "\n",
    "def count_channel_label_temporal(channel_time_ls, label_map=CHANNEL_LABEL_MAP):\n",
    "    label_ls = []\n",
    "    for c,time in channel_time_ls:\n",
    "        if c in label_map.keys():\n",
    "            if c == \"UCKY8HrMpm32WAMK0lauLAZA\":\n",
    "                if time <= pd.to_datetime(\"2020-08-01 00:00:00\"):\n",
    "                    lab = get_channel_label(c, label_map=label_map, before_after=\"before\")\n",
    "                else:\n",
    "                    lab = get_channel_label(c, label_map=label_map, before_after=\"after\")\n",
    "            else:\n",
    "                lab = get_channel_label(c, label_map=label_map)\n",
    "            label_ls.append(lab)\n",
    "    label_counter = {-1:0, 0:0, 1:0}\n",
    "    for l in label_ls:\n",
    "        label_counter[l] += 1\n",
    "    return label_counter\n"
   ]
  },
  {
   "cell_type": "code",
   "execution_count": 19,
   "id": "58404665",
   "metadata": {},
   "outputs": [],
   "source": [
    "aggr_func1 = {\"channel_id_time\": lambda x: list(x)}\n",
    "aggr_func2 = {\"channel_id\":lambda x: list(x)}\n",
    "pol_view[\"channel_id_time\"] = pol_view.apply(lambda x: (x[\"channel_id\"], x[\"timestamp\"]), axis=1)\n",
    "view_aggr = pol_view.groupby(\"respondent_id\").agg(aggr_func1).reset_index()\n",
    "subscribe_aggr = pol_subscribe.groupby(\"respondent_id\").agg(aggr_func2).reset_index()\n",
    "comment_aggr = pol_comment.groupby(\"respondent_id\").agg(aggr_func2).reset_index()"
   ]
  },
  {
   "cell_type": "code",
   "execution_count": 20,
   "id": "9174504a",
   "metadata": {},
   "outputs": [],
   "source": [
    "view_aggr[\"view_labs\"] = view_aggr[\"channel_id_time\"].map(lambda x: count_channel_label_temporal(x))\n",
    "subscribe_aggr[\"subscribe_labs\"] = subscribe_aggr[\"channel_id\"].map(lambda x: count_channel_label(x))\n",
    "comment_aggr[\"comment_labs\"] = comment_aggr[\"channel_id\"].map(lambda x: count_channel_label(x))"
   ]
  },
  {
   "cell_type": "code",
   "execution_count": 21,
   "id": "f6cf9106",
   "metadata": {},
   "outputs": [],
   "source": [
    "reg_table_bd = reg_table.merge(view_aggr, on=\"respondent_id\", how=\"left\")\n",
    "reg_table_bd = reg_table_bd.merge(subscribe_aggr, on=\"respondent_id\", how=\"left\")\n",
    "reg_table_bd = reg_table_bd.merge(comment_aggr, on=\"respondent_id\", how=\"left\")\n",
    "\n",
    "for activity in [\"view\", \"subscribe\", \"comment\"]:\n",
    "    reg_table_bd[f\"{activity}_anti\"] = reg_table_bd[f\"{activity}_labs\"].map(lambda x:x[-1] if str(x)!=\"nan\" else 0)\n",
    "    reg_table_bd[f\"{activity}_netr\"] = reg_table_bd[f\"{activity}_labs\"].map(lambda x:x[0] if str(x)!=\"nan\" else 0)\n",
    "    reg_table_bd[f\"{activity}_pro\"] = reg_table_bd[f\"{activity}_labs\"].map(lambda x:x[1] if str(x)!=\"nan\" else 0)\n",
    "\n",
    "reg_table_bd.drop(columns=[\"channel_id_time\", \"channel_id_x\", \"channel_id_y\", \"view_labs\"], inplace=True)\n"
   ]
  },
  {
   "cell_type": "code",
   "execution_count": 22,
   "id": "fb8732cf",
   "metadata": {},
   "outputs": [],
   "source": [
    "# uncomment this if I want to save the table\n",
    "# reg_table_bd.to_csv(\"../../output/reg_table_filter_ytb_activities_channel_catg_counts_122324.csv\", index=False)"
   ]
  }
 ],
 "metadata": {
  "kernelspec": {
   "display_name": "bias-pol-comm",
   "language": "python",
   "name": "python3"
  },
  "language_info": {
   "codemirror_mode": {
    "name": "ipython",
    "version": 3
   },
   "file_extension": ".py",
   "mimetype": "text/x-python",
   "name": "python",
   "nbconvert_exporter": "python",
   "pygments_lexer": "ipython3",
   "version": "3.9.13"
  }
 },
 "nbformat": 4,
 "nbformat_minor": 5
}
