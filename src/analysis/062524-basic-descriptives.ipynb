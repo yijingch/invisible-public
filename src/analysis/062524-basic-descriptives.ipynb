{
 "cells": [
  {
   "cell_type": "markdown",
   "metadata": {},
   "source": [
    "## Describe datasets and deliver basic stats"
   ]
  },
  {
   "cell_type": "code",
   "execution_count": 1,
   "metadata": {},
   "outputs": [
    {
     "name": "stdout",
     "output_type": "stream",
     "text": [
      "{'ROOTPATH': '/Users/yijingch/Documents/GITHUB/invisible-public/', 'ROOTPATH2': '/Users/yijingch/Documents/GITHUB/dd-full/', 'DATAPATH': '/Users/yijingch/Documents/GITHUB/dd-full/data/', 'DATAPATH2': '/Users/yijingch/Documents/GITHUB/collect-youtube-content/data/', 'INDEXPATH': '/Users/yijingch/Documents/GITHUB/dd-full/index/', 'START': datetime.datetime(2018, 5, 1, 0, 0), 'END': datetime.datetime(2023, 5, 1, 0, 0)}\n",
      "2018-05-01 00:00:00\n",
      "2023-05-01 00:00:00\n"
     ]
    }
   ],
   "source": [
    "import pandas as pd \n",
    "import numpy as np \n",
    "from src.utils.preprocess import get_videoid\n",
    "\n",
    "import matplotlib.pyplot as plt\n",
    "import matplotlib_inline.backend_inline\n",
    "matplotlib_inline.backend_inline.set_matplotlib_formats(\"retina\")\n",
    "\n",
    "import yaml\n",
    "with open(\"../../src/configs.yml\", \"r\") as configs:\n",
    "    configs = yaml.safe_load(configs)\n",
    "\n",
    "ROOTPATH = configs[\"ROOTPATH\"]\n",
    "DATAPATH = configs[\"DATAPATH\"]\n",
    "DATAPATH2 = configs[\"DATAPATH2\"]\n",
    "ROOTPATH2 = configs[\"ROOTPATH2\"]\n",
    "OUTPATH = \"../../output/results-summary-062524/\"\n",
    "\n",
    "START = configs[\"START\"]\n",
    "END = configs[\"END\"]\n",
    "print(configs)\n",
    "print(START)\n",
    "print(END)"
   ]
  },
  {
   "cell_type": "markdown",
   "metadata": {},
   "source": [
    "## Load view, subscribe, comment data"
   ]
  },
  {
   "cell_type": "code",
   "execution_count": 2,
   "metadata": {},
   "outputs": [],
   "source": [
    "view_all = pd.read_csv(DATAPATH + \"youtube/yt_watch.csv\", sep=\";\")\n",
    "view_all = view_all[[\"respondent_id\",\"titleUrl\",\"channel_url\", \"timestamp\"]].rename(columns={\"titleUrl\":\"video_url\"})\n",
    "view_all[\"channel_id\"] = view_all[\"channel_url\"].map(lambda x: x.split(\"/\")[-1] if str(x)!= \"nan\" else np.NaN)\n",
    "view_all[\"video_id\"] = view_all[\"video_url\"].map(lambda x: get_videoid(x))\n",
    "view_all = view_all.dropna(subset = [\"respondent_id\", \"video_id\", \"channel_id\"])[[\"respondent_id\",\"channel_id\",\"video_id\",\"timestamp\"]]\n",
    "\n",
    "subscribe_all = pd.read_csv(DATAPATH + \"youtube/yt_subscriptions.csv\", sep=\";\")[[\"respondent_id\",\"channel_id\"]]\n",
    "\n",
    "comment_all = pd.read_csv(DATAPATH + \"youtube/yt_comments_from2018may_to2023may_new.csv\", sep=\";\").rename(columns={\"snippet.channelId\":\"channel_id\"})\n",
    "comment_all = comment_all[[\"respondent_id\",\"video_id\", \"channel_id\"]].dropna()\n",
    "comment_public = pd.read_pickle(DATAPATH + \"youtube/yt_comments_public_061824.pkl\")"
   ]
  },
  {
   "cell_type": "code",
   "execution_count": 4,
   "metadata": {},
   "outputs": [
    {
     "data": {
      "text/plain": [
       "787945"
      ]
     },
     "execution_count": 4,
     "metadata": {},
     "output_type": "execute_result"
    }
   ],
   "source": [
    "len(set(view_all[\"channel_id\"].tolist()).union(set(subscribe_all[\"channel_id\"].tolist())).union(set(comment_all[\"channel_id\"].tolist())))"
   ]
  },
  {
   "cell_type": "markdown",
   "metadata": {},
   "source": [
    "## Align the time period [FROM May 2018 to April 2023]"
   ]
  },
  {
   "cell_type": "code",
   "execution_count": 15,
   "metadata": {},
   "outputs": [],
   "source": [
    "view_all[\"timestamp\"] = pd.to_datetime(view_all[\"timestamp\"])\n",
    "view_all = view_all[(view_all[\"timestamp\"]>=START)&(view_all[\"timestamp\"]<=END)].copy()\n",
    "\n",
    "comment_public[\"timestamp\"] = pd.to_datetime(comment_public[\"published_at\"]).dt.tz_localize(None)\n",
    "comment_public = comment_public[(comment_public[\"timestamp\"]>=START)&(comment_public[\"timestamp\"]<=END)].copy()\n",
    "# subscribing data cannot be filtered; sample comment is already filtered"
   ]
  },
  {
   "cell_type": "markdown",
   "metadata": {},
   "source": [
    "## Load survey data"
   ]
  },
  {
   "cell_type": "code",
   "execution_count": 16,
   "metadata": {},
   "outputs": [
    {
     "name": "stdout",
     "output_type": "stream",
     "text": [
      "Index(['respondent_id', 'weight', 'gender', 'birth_year', 'education',\n",
      "       'fb_freq', 'ig_freq', 'tw_freq', 'yt_freq', 'lk_freq', 'tt_freq',\n",
      "       'sp_freq', 'sns_view_politics', 'sns_view_politics_friends',\n",
      "       'sns_view_politics_disagree', 'sns_view_politics_progov',\n",
      "       'sns_view_politics_antigov', 'seek_politics_tv', 'seek_politics_radio',\n",
      "       'seek_politics_newpp', 'seek_politics_sites', 'seek_politics_sns',\n",
      "       'seek_politics_convo', 'talk_politics_frfa', 'align_politics_frfa',\n",
      "       'interest_politics', 'vote_party_2022', 'would_go_vote_sunday',\n",
      "       'would_vote_party_sunday', 'know_sppt_fdsz', 'know_sppt_mszp',\n",
      "       'know_sppt_jbbk', 'know_sppt_lmp', 'know_sppt_dk', 'know_sppt_mtum',\n",
      "       'know_sppt_mhzk', 'know_relate_fdsz', 'know_relate_mszp',\n",
      "       'know_relate_jbbk', 'know_relate_lmp', 'know_relate_dk',\n",
      "       'know_relate_mtum', 'know_relate_mhzk', 'feel_thm_fdsz',\n",
      "       'feel_thm_mszp', 'feel_thm_jbbk', 'feel_thm_lmp', 'feel_thm_dk',\n",
      "       'feel_thm_mtum', 'feel_thm_mhzk', 'lftRght', 'lbrCsvt', 'strEnvm',\n",
      "       'regBisn', 'sanChck', 'porEasy', 'favImgr', 'govInef', 'milStrg',\n",
      "       'racDisc', 'govHelp', 'bizProf', 'homAcpt', 'age', 'fb_post_politics',\n",
      "       'fb_share_politics', 'fb_react_politics', 'fb_comment_politics'],\n",
      "      dtype='object')\n"
     ]
    }
   ],
   "source": [
    "pol_df = pd.read_csv(DATAPATH + \"survey/pol_survey_cleaned_NEW_INCLUDEALL.csv\").rename(columns={\"user_id\":\"respondent_id\"})\n",
    "pol_df.head()\n",
    "print(pol_df.columns)"
   ]
  },
  {
   "cell_type": "code",
   "execution_count": 17,
   "metadata": {},
   "outputs": [
    {
     "name": "stdout",
     "output_type": "stream",
     "text": [
      "# of all respondents: 758\n",
      "# of respondents who have youtube activities: 734\n"
     ]
    }
   ],
   "source": [
    "print(\"# of all respondents:\", pol_df[\"respondent_id\"].nunique())\n",
    "users = set(view_all[\"respondent_id\"].tolist()).union(set(subscribe_all[\"respondent_id\"].tolist())).union(comment_all[\"respondent_id\"].tolist())\n",
    "print(\"# of respondents who have youtube activities:\", len(users))"
   ]
  },
  {
   "cell_type": "code",
   "execution_count": 18,
   "metadata": {},
   "outputs": [
    {
     "name": "stdout",
     "output_type": "stream",
     "text": [
      "# of political channels: 11346\n"
     ]
    }
   ],
   "source": [
    "# load all political channel \n",
    "cols = [\"channel_id\", \"upload_id\", \"topics_str\"]\n",
    "# channel_info = pd.read_csv(DATAPATH2 + \"clean/channel-info.csv\")[cols].dropna(subset=\"topics_str\")\n",
    "channel_info = pd.read_pickle(DATAPATH2 + \"clean/channel-info-042624.pkl\")[cols].dropna(subset=\"topics_str\")\n",
    "\n",
    "# get a list of political videos and channels that have uploaded political videos\n",
    "pol_videos = pd.read_pickle(DATAPATH + \"youtube/youtube_video_meta_politics.pkl\")[\"video_id\"].tolist()\n",
    "pol_videos_ch = set(pd.read_pickle(DATAPATH + \"youtube/youtube_video_meta_politics.pkl\")[\"channel_id\"].tolist())\n",
    "\n",
    "CHANNEL_CATG = \"Politics\"\n",
    "pol_channels = channel_info[channel_info[\"topics_str\"].str.contains(CHANNEL_CATG)][\"channel_id\"].tolist()\n",
    "pol_channels = set(pol_channels).union(pol_videos_ch)\n",
    "print(\"# of political channels:\", len(set(pol_channels)))  # 11346\n"
   ]
  },
  {
   "cell_type": "code",
   "execution_count": 19,
   "metadata": {},
   "outputs": [],
   "source": [
    "view_pol = view_all[view_all[\"channel_id\"].isin(pol_channels)]\n",
    "subscribe_pol = subscribe_all[subscribe_all[\"channel_id\"].isin(pol_channels)]\n",
    "comment_pol = comment_all[comment_all[\"channel_id\"].isin(pol_channels)]\n",
    "comment_public_pol = comment_public[comment_public[\"channel_id\"].isin(pol_channels)]"
   ]
  },
  {
   "cell_type": "code",
   "execution_count": 20,
   "metadata": {},
   "outputs": [
    {
     "name": "stdout",
     "output_type": "stream",
     "text": [
      "# of respondents who have engaged with at least one political channel: 700\n"
     ]
    }
   ],
   "source": [
    "users2 = set(view_pol[\"respondent_id\"].tolist()).union(set(subscribe_pol[\"respondent_id\"].tolist())).union(comment_pol[\"respondent_id\"].tolist())\n",
    "print(\"# of respondents who have engaged with at least one political channel:\", len(users2))"
   ]
  },
  {
   "cell_type": "markdown",
   "metadata": {},
   "source": [
    "## Load channel labels"
   ]
  },
  {
   "cell_type": "code",
   "execution_count": 21,
   "metadata": {},
   "outputs": [
    {
     "name": "stdout",
     "output_type": "stream",
     "text": [
      "1 0 # of channels 149\n",
      "2 -1 # of channels 276\n",
      "3 1 # of channels 139\n"
     ]
    },
    {
     "data": {
      "text/plain": [
       "564"
      ]
     },
     "execution_count": 21,
     "metadata": {},
     "output_type": "execute_result"
    }
   ],
   "source": [
    "channel_labels_all = pd.read_excel(ROOTPATH2 + \"index/yt_polclass_20240627.xlsx\")\n",
    "channel_labels_all\n",
    "\n",
    "label_col = \"classification_lvl1_4cat\"\n",
    "LABEL_MAP = {\n",
    "    1: 0, # neutral \n",
    "    2: -1, # anti-gov \n",
    "    3: 1, # pro-gov\n",
    "}\n",
    "\n",
    "channel_labels = channel_labels_all[channel_labels_all[label_col].isin(LABEL_MAP.keys())]\n",
    "\n",
    "CHANNEL_LABEL_MAP = {}\n",
    "for lab,val in LABEL_MAP.items():\n",
    "    channel_subdf = channel_labels[channel_labels[label_col]==lab]\n",
    "    these_channels = set(channel_subdf[\"channel_id\"].tolist())\n",
    "    print(lab, val, \"# of channels\", len(these_channels))\n",
    "    for this_ch in these_channels:\n",
    "        CHANNEL_LABEL_MAP[this_ch] = {}\n",
    "        CHANNEL_LABEL_MAP[this_ch][\"leaning\"] = val \n",
    "\n",
    "CHANNEL_LABEL_MAP[\"UCKY8HrMpm32WAMK0lauLAZA\"][\"leaning\"] = 1\n",
    "len(CHANNEL_LABEL_MAP)"
   ]
  },
  {
   "cell_type": "code",
   "execution_count": 10,
   "metadata": {},
   "outputs": [],
   "source": [
    "these_channels = CHANNEL_LABEL_MAP.keys()\n",
    "view_pol2 = view_all[view_all[\"channel_id\"].isin(these_channels)]\n",
    "subscribe_pol2 = subscribe_all[subscribe_all[\"channel_id\"].isin(these_channels)]\n",
    "comment_pol2 = comment_all[comment_all[\"channel_id\"].isin(these_channels)]\n",
    "comment_public_pol2 = comment_public[comment_public[\"channel_id\"].isin(these_channels)]"
   ]
  },
  {
   "cell_type": "code",
   "execution_count": 11,
   "metadata": {},
   "outputs": [
    {
     "name": "stdout",
     "output_type": "stream",
     "text": [
      "# of respondents who have engaged with at least one political channel: 668\n"
     ]
    }
   ],
   "source": [
    "users3 = set(view_pol2[\"respondent_id\"].tolist()).union(set(subscribe_pol2[\"respondent_id\"].tolist())).union(comment_pol2[\"respondent_id\"].tolist())\n",
    "print(\"# of respondents who have engaged with at least one political channel:\", len(users3))"
   ]
  },
  {
   "cell_type": "code",
   "execution_count": 12,
   "metadata": {},
   "outputs": [
    {
     "name": "stdout",
     "output_type": "stream",
     "text": [
      "**** VIEWING ****\n",
      "# of unique users: 640\n",
      "# of unique channels: 545\n",
      "# of unique videos: 57400\n",
      "**** SUBSCRIBING ****\n",
      "# of unique users: 299\n",
      "# of unique channels: 210\n",
      "**** COMMENTING ****\n",
      "# of unique users: 72\n",
      "# of unique channels: 108\n",
      "# of unique videos: 993\n"
     ]
    }
   ],
   "source": [
    "print(\"**** VIEWING ****\")\n",
    "print(\"# of unique users:\", view_pol2[\"respondent_id\"].nunique())\n",
    "print(\"# of unique channels:\", view_pol2[\"channel_id\"].nunique())\n",
    "print(\"# of unique videos:\", view_pol2[\"video_id\"].nunique())\n",
    "\n",
    "print(\"**** SUBSCRIBING ****\")\n",
    "print(\"# of unique users:\", subscribe_pol2[\"respondent_id\"].nunique())\n",
    "print(\"# of unique channels:\", subscribe_pol2[\"channel_id\"].nunique())\n",
    "\n",
    "print(\"**** COMMENTING ****\")\n",
    "print(\"# of unique users:\", comment_pol2[\"respondent_id\"].nunique())\n",
    "print(\"# of unique channels:\", comment_pol2[\"channel_id\"].nunique())\n",
    "print(\"# of unique videos:\", comment_pol2[\"video_id\"].nunique())"
   ]
  },
  {
   "cell_type": "code",
   "execution_count": null,
   "metadata": {},
   "outputs": [],
   "source": []
  },
  {
   "cell_type": "code",
   "execution_count": null,
   "metadata": {},
   "outputs": [],
   "source": []
  }
 ],
 "metadata": {
  "kernelspec": {
   "display_name": "bias-pol-comm",
   "language": "python",
   "name": "python3"
  },
  "language_info": {
   "codemirror_mode": {
    "name": "ipython",
    "version": 3
   },
   "file_extension": ".py",
   "mimetype": "text/x-python",
   "name": "python",
   "nbconvert_exporter": "python",
   "pygments_lexer": "ipython3",
   "version": "3.9.13"
  }
 },
 "nbformat": 4,
 "nbformat_minor": 2
}
