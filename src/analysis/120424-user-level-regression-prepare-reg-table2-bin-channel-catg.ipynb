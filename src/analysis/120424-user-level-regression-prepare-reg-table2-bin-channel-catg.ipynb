{
 "cells": [
  {
   "cell_type": "code",
   "execution_count": 2,
   "metadata": {},
   "outputs": [
    {
     "name": "stdout",
     "output_type": "stream",
     "text": [
      "{'ROOTPATH': '/Users/yijingch/Documents/GITHUB/invisible-public/', 'ROOTPATH2': '/Users/yijingch/Documents/GITHUB/dd-full/', 'DATAPATH': '/Users/yijingch/Documents/GITHUB/dd-full/data/', 'DATAPATH2': '/Users/yijingch/Documents/GITHUB/collect-youtube-content/data/', 'INDEXPATH': '/Users/yijingch/Documents/GITHUB/dd-full/index/', 'START': datetime.datetime(2018, 5, 1, 0, 0), 'END': datetime.datetime(2023, 5, 1, 0, 0)}\n",
      "2018-05-01 00:00:00\n",
      "2023-05-01 00:00:00\n"
     ]
    }
   ],
   "source": [
    "import pandas as pd \n",
    "import numpy as np \n",
    "from src.utils.preprocess import get_videoid\n",
    "\n",
    "import matplotlib.pyplot as plt\n",
    "import matplotlib_inline.backend_inline\n",
    "matplotlib_inline.backend_inline.set_matplotlib_formats(\"retina\")\n",
    "\n",
    "import yaml\n",
    "with open(\"../../src/configs.yml\", \"r\") as configs:\n",
    "    configs = yaml.safe_load(configs)\n",
    "\n",
    "ROOTPATH = configs[\"ROOTPATH\"]\n",
    "DATAPATH = configs[\"DATAPATH\"]\n",
    "ROOTPATH2 = configs[\"ROOTPATH2\"]\n",
    "OUTPATH = \"../../output/results-summary-120424/\"\n",
    "\n",
    "START = configs[\"START\"]\n",
    "END = configs[\"END\"]\n",
    "print(configs)\n",
    "print(START)\n",
    "print(END)"
   ]
  },
  {
   "cell_type": "code",
   "execution_count": 3,
   "metadata": {},
   "outputs": [],
   "source": [
    "view_all = pd.read_csv(DATAPATH + \"youtube/yt_watch.csv\", sep=\";\")"
   ]
  },
  {
   "cell_type": "code",
   "execution_count": 7,
   "metadata": {},
   "outputs": [
    {
     "data": {
      "text/html": [
       "<div>\n",
       "<style scoped>\n",
       "    .dataframe tbody tr th:only-of-type {\n",
       "        vertical-align: middle;\n",
       "    }\n",
       "\n",
       "    .dataframe tbody tr th {\n",
       "        vertical-align: top;\n",
       "    }\n",
       "\n",
       "    .dataframe thead th {\n",
       "        text-align: right;\n",
       "    }\n",
       "</style>\n",
       "<table border=\"1\" class=\"dataframe\">\n",
       "  <thead>\n",
       "    <tr style=\"text-align: right;\">\n",
       "      <th></th>\n",
       "      <th>Unnamed: 0</th>\n",
       "      <th>respondent_id</th>\n",
       "      <th>titleUrl</th>\n",
       "      <th>channel_url</th>\n",
       "      <th>video_id</th>\n",
       "      <th>timestamp</th>\n",
       "    </tr>\n",
       "  </thead>\n",
       "  <tbody>\n",
       "    <tr>\n",
       "      <th>4613764</th>\n",
       "      <td>5437703</td>\n",
       "      <td>1072184</td>\n",
       "      <td>https://www.youtube.com/watch?v=k-_s7nW8BB0</td>\n",
       "      <td>NaN</td>\n",
       "      <td>k-_s7nW8BB0</td>\n",
       "      <td>2020-09-23 17:55:48</td>\n",
       "    </tr>\n",
       "  </tbody>\n",
       "</table>\n",
       "</div>"
      ],
      "text/plain": [
       "         Unnamed: 0  respondent_id  \\\n",
       "4613764     5437703        1072184   \n",
       "\n",
       "                                            titleUrl channel_url     video_id  \\\n",
       "4613764  https://www.youtube.com/watch?v=k-_s7nW8BB0         NaN  k-_s7nW8BB0   \n",
       "\n",
       "                   timestamp  \n",
       "4613764  2020-09-23 17:55:48  "
      ]
     },
     "execution_count": 7,
     "metadata": {},
     "output_type": "execute_result"
    }
   ],
   "source": [
    "view_all[view_all[\"respondent_id\"]==1072184]"
   ]
  },
  {
   "cell_type": "code",
   "execution_count": 2,
   "metadata": {},
   "outputs": [],
   "source": [
    "view_all = pd.read_csv(DATAPATH + \"youtube/yt_watch.csv\", sep=\";\")\n",
    "view_all = view_all[[\"respondent_id\",\"titleUrl\",\"channel_url\", \"timestamp\"]].rename(columns={\"titleUrl\":\"video_url\"})\n",
    "view_all[\"channel_id\"] = view_all[\"channel_url\"].map(lambda x: x.split(\"/\")[-1] if str(x)!= \"nan\" else np.NaN)\n",
    "view_all[\"video_id\"] = view_all[\"video_url\"].map(lambda x: get_videoid(x))\n",
    "view_all = view_all.dropna(subset = [\"respondent_id\", \"video_id\", \"channel_id\"])[[\"respondent_id\",\"channel_id\",\"video_id\",\"timestamp\"]]\n",
    "\n",
    "subscribe_all = pd.read_csv(DATAPATH + \"youtube/yt_subscriptions.csv\", sep=\";\")[[\"respondent_id\",\"channel_id\"]]\n",
    "\n",
    "comment_all = pd.read_csv(DATAPATH + \"youtube/yt_comments_from2018may_to2023may_new.csv\", sep=\";\").rename(columns={\"snippet.channelId\":\"channel_id\"})\n",
    "comment_all = comment_all[[\"respondent_id\",\"video_id\", \"channel_id\"]].dropna()\n",
    "comment_public = pd.read_pickle(DATAPATH + \"youtube/yt_comments_public_061824.pkl\")\n",
    "\n",
    "view_all[\"timestamp\"] = pd.to_datetime(view_all[\"timestamp\"])\n",
    "view_all = view_all[(view_all[\"timestamp\"]>=START)&(view_all[\"timestamp\"]<=END)].copy()\n",
    "\n",
    "comment_public[\"timestamp\"] = pd.to_datetime(comment_public[\"published_at\"]).dt.tz_localize(None)\n",
    "comment_public = comment_public[(comment_public[\"timestamp\"]>=START)&(comment_public[\"timestamp\"]<=END)].copy()\n",
    "# subscribing data cannot be filtered; sample comment is already filtered"
   ]
  },
  {
   "cell_type": "code",
   "execution_count": 3,
   "metadata": {},
   "outputs": [
    {
     "name": "stdout",
     "output_type": "stream",
     "text": [
      "Index(['respondent_id', 'gender', 'birth_year', 'education', 'fb_freq',\n",
      "       'ig_freq', 'tw_freq', 'yt_freq', 'lk_freq', 'tt_freq', 'sp_freq',\n",
      "       'sns_view_politics', 'sns_view_politics_friends',\n",
      "       'sns_view_politics_disagree', 'sns_view_politics_progov',\n",
      "       'sns_view_politics_antigov', 'seek_politics_tv', 'seek_politics_radio',\n",
      "       'seek_politics_newpp', 'seek_politics_sites', 'seek_politics_sns',\n",
      "       'seek_politics_convo', 'talk_politics_frfa', 'align_politics_frfa',\n",
      "       'interest_politics', 'vote_party_2022', 'would_go_vote_sunday',\n",
      "       'would_vote_party_sunday', 'know_sppt_fdsz', 'know_sppt_mszp',\n",
      "       'know_sppt_jbbk', 'know_sppt_lmp', 'know_sppt_dk', 'know_sppt_mtum',\n",
      "       'know_sppt_mhzk', 'know_relate_fdsz', 'know_relate_mszp',\n",
      "       'know_relate_jbbk', 'know_relate_lmp', 'know_relate_dk',\n",
      "       'know_relate_mtum', 'know_relate_mhzk', 'feel_thm_fdsz',\n",
      "       'feel_thm_mszp', 'feel_thm_jbbk', 'feel_thm_lmp', 'feel_thm_dk',\n",
      "       'feel_thm_mtum', 'feel_thm_mhzk', 'lftRght', 'lbrCsvt', 'strEnvm',\n",
      "       'regBisn', 'sanChck', 'porEasy', 'favImgr', 'govInef', 'milStrg',\n",
      "       'racDisc', 'govHelp', 'bizProf', 'homAcpt', 'age', 'fb_post_politics',\n",
      "       'fb_share_politics', 'fb_react_politics', 'fb_comment_politics',\n",
      "       'weight'],\n",
      "      dtype='object')\n",
      "758\n"
     ]
    }
   ],
   "source": [
    "pol_df = pd.read_csv(DATAPATH + \"survey/pol_survey_cleaned_NEW_INCLUDEALL.csv\").rename(columns={\"user_id\":\"respondent_id\"})\n",
    "\n",
    "# get new weights [new!]\n",
    "pol_df.drop(columns=[\"weight\"], inplace=True)\n",
    "new_weights = pd.read_spss(DATAPATH + \"survey/TK_DataDonation_eng.sav\")[[\"respondent_id\",\"weight\"]]\n",
    "new_weights[\"respondent_id\"] = new_weights[\"respondent_id\"].map(lambda x: int(x))\n",
    "pol_df = pol_df.merge(new_weights, on=\"respondent_id\", how=\"left\")\n",
    "\n",
    "print(pol_df.columns)\n",
    "set1 = set(view_all[\"respondent_id\"].unique()).union(set(subscribe_all[\"respondent_id\"].unique())).union(set(comment_all[\"respondent_id\"].unique()))\n",
    "set2 = set1.intersection(set(pol_df[\"respondent_id\"].unique()))\n",
    "print(len(pol_df))"
   ]
  },
  {
   "cell_type": "code",
   "execution_count": 4,
   "metadata": {},
   "outputs": [
    {
     "name": "stdout",
     "output_type": "stream",
     "text": [
      "1 0 # of channels 149\n",
      "2 -1 # of channels 276\n",
      "3 1 # of channels 139\n"
     ]
    }
   ],
   "source": [
    "channel_labels_all = pd.read_excel(ROOTPATH2 + \"index/yt_polclass_20240627.xlsx\")\n",
    "channel_labels_all\n",
    "\n",
    "label_col = \"classification_lvl1_4cat\"\n",
    "LABEL_MAP = {\n",
    "    1: 0, # neutral \n",
    "    2: -1, # anti-gov \n",
    "    3: 1, # pro-gov\n",
    "}\n",
    "\n",
    "channel_labels = channel_labels_all[channel_labels_all[label_col].isin(LABEL_MAP.keys())]\n",
    "\n",
    "CHANNEL_LABEL_MAP = {}\n",
    "for lab,val in LABEL_MAP.items():\n",
    "    channel_subdf = channel_labels[channel_labels[label_col]==lab]\n",
    "    these_channels = set(channel_subdf[\"channel_id\"].tolist())\n",
    "    print(lab, val, \"# of channels\", len(these_channels))\n",
    "    for this_ch in these_channels:\n",
    "        CHANNEL_LABEL_MAP[this_ch] = val \n",
    "\n",
    "CHANNEL_LABEL_MAP[\"UCKY8HrMpm32WAMK0lauLAZA\"] = {\"before\":-1, \"after\":1} "
   ]
  },
  {
   "cell_type": "code",
   "execution_count": 5,
   "metadata": {},
   "outputs": [],
   "source": [
    "these_channels = CHANNEL_LABEL_MAP.keys()\n",
    "pol_view = view_all[view_all[\"channel_id\"].isin(these_channels)].copy()\n",
    "pol_subscribe = subscribe_all[subscribe_all[\"channel_id\"].isin(these_channels)].copy()\n",
    "pol_comment = comment_all[comment_all[\"channel_id\"].isin(these_channels)].copy()\n",
    "pol_comment_public = comment_public[comment_public[\"channel_id\"].isin(these_channels)].copy()"
   ]
  },
  {
   "cell_type": "code",
   "execution_count": 6,
   "metadata": {},
   "outputs": [],
   "source": [
    "aggr_func1 = {\"channel_id_time\": lambda x: list(x)}\n",
    "aggr_func2 = {\"channel_id\":lambda x: list(x)}\n",
    "pol_view[\"channel_id_time\"] = pol_view.apply(lambda x: (x[\"channel_id\"], x[\"timestamp\"]), axis=1)\n",
    "view_aggr = pol_view.groupby(\"respondent_id\").agg(aggr_func1).reset_index()\n",
    "subscribe_aggr = pol_subscribe.groupby(\"respondent_id\").agg(aggr_func2).reset_index()\n",
    "comment_aggr = pol_comment.groupby(\"respondent_id\").agg(aggr_func2).reset_index()"
   ]
  },
  {
   "cell_type": "code",
   "execution_count": 7,
   "metadata": {},
   "outputs": [
    {
     "data": {
      "text/html": [
       "<div>\n",
       "<style scoped>\n",
       "    .dataframe tbody tr th:only-of-type {\n",
       "        vertical-align: middle;\n",
       "    }\n",
       "\n",
       "    .dataframe tbody tr th {\n",
       "        vertical-align: top;\n",
       "    }\n",
       "\n",
       "    .dataframe thead th {\n",
       "        text-align: right;\n",
       "    }\n",
       "</style>\n",
       "<table border=\"1\" class=\"dataframe\">\n",
       "  <thead>\n",
       "    <tr style=\"text-align: right;\">\n",
       "      <th></th>\n",
       "      <th>respondent_id</th>\n",
       "      <th>channel_id_time</th>\n",
       "    </tr>\n",
       "  </thead>\n",
       "  <tbody>\n",
       "    <tr>\n",
       "      <th>0</th>\n",
       "      <td>20145</td>\n",
       "      <td>[(UCZsebJUpdb-cQ8RLwmDAVcg, 2019-01-24 12:18:0...</td>\n",
       "    </tr>\n",
       "    <tr>\n",
       "      <th>1</th>\n",
       "      <td>20377</td>\n",
       "      <td>[(UCSSTPAdzn12PF8XZhJJXB2w, 2018-05-09 12:38:0...</td>\n",
       "    </tr>\n",
       "    <tr>\n",
       "      <th>2</th>\n",
       "      <td>21712</td>\n",
       "      <td>[(UCw0oJgCjz3NvAICbqWImH-A, 2018-05-08 13:54:4...</td>\n",
       "    </tr>\n",
       "    <tr>\n",
       "      <th>3</th>\n",
       "      <td>23815</td>\n",
       "      <td>[(UCZXc2s97ubN4BLOV9WLZWcQ, 2018-08-25 21:29:1...</td>\n",
       "    </tr>\n",
       "    <tr>\n",
       "      <th>4</th>\n",
       "      <td>26713</td>\n",
       "      <td>[(UCcWzNTBDXJ6jpZfJYy3PH4Q, 2019-12-17 15:58:3...</td>\n",
       "    </tr>\n",
       "    <tr>\n",
       "      <th>...</th>\n",
       "      <td>...</td>\n",
       "      <td>...</td>\n",
       "    </tr>\n",
       "    <tr>\n",
       "      <th>635</th>\n",
       "      <td>1266549</td>\n",
       "      <td>[(UClUSqujSdARUgqlgX-FfAZA, 2022-12-30 23:39:3...</td>\n",
       "    </tr>\n",
       "    <tr>\n",
       "      <th>636</th>\n",
       "      <td>1266727</td>\n",
       "      <td>[(UCBFovo0_BUOuI1mgWSvEfqA, 2018-08-07 18:57:3...</td>\n",
       "    </tr>\n",
       "    <tr>\n",
       "      <th>637</th>\n",
       "      <td>1267123</td>\n",
       "      <td>[(UCXxUjsYxbL1llIe9Ra6wcyQ, 2020-01-03 18:38:5...</td>\n",
       "    </tr>\n",
       "    <tr>\n",
       "      <th>638</th>\n",
       "      <td>1267313</td>\n",
       "      <td>[(UCWALLPCVkSyKLuZLg5bc3QQ, 2018-10-19 13:28:4...</td>\n",
       "    </tr>\n",
       "    <tr>\n",
       "      <th>639</th>\n",
       "      <td>1267326</td>\n",
       "      <td>[(UCw0oJgCjz3NvAICbqWImH-A, 2018-06-15 09:37:0...</td>\n",
       "    </tr>\n",
       "  </tbody>\n",
       "</table>\n",
       "<p>640 rows × 2 columns</p>\n",
       "</div>"
      ],
      "text/plain": [
       "     respondent_id                                    channel_id_time\n",
       "0            20145  [(UCZsebJUpdb-cQ8RLwmDAVcg, 2019-01-24 12:18:0...\n",
       "1            20377  [(UCSSTPAdzn12PF8XZhJJXB2w, 2018-05-09 12:38:0...\n",
       "2            21712  [(UCw0oJgCjz3NvAICbqWImH-A, 2018-05-08 13:54:4...\n",
       "3            23815  [(UCZXc2s97ubN4BLOV9WLZWcQ, 2018-08-25 21:29:1...\n",
       "4            26713  [(UCcWzNTBDXJ6jpZfJYy3PH4Q, 2019-12-17 15:58:3...\n",
       "..             ...                                                ...\n",
       "635        1266549  [(UClUSqujSdARUgqlgX-FfAZA, 2022-12-30 23:39:3...\n",
       "636        1266727  [(UCBFovo0_BUOuI1mgWSvEfqA, 2018-08-07 18:57:3...\n",
       "637        1267123  [(UCXxUjsYxbL1llIe9Ra6wcyQ, 2020-01-03 18:38:5...\n",
       "638        1267313  [(UCWALLPCVkSyKLuZLg5bc3QQ, 2018-10-19 13:28:4...\n",
       "639        1267326  [(UCw0oJgCjz3NvAICbqWImH-A, 2018-06-15 09:37:0...\n",
       "\n",
       "[640 rows x 2 columns]"
      ]
     },
     "execution_count": 7,
     "metadata": {},
     "output_type": "execute_result"
    }
   ],
   "source": [
    "view_aggr "
   ]
  },
  {
   "cell_type": "code",
   "execution_count": 8,
   "metadata": {},
   "outputs": [],
   "source": [
    "def get_channel_label(channel_id, label_map, before_after=\"\"):\n",
    "    if before_after == \"\":\n",
    "        return label_map[channel_id]\n",
    "    else:\n",
    "        return label_map[channel_id][before_after]\n",
    "\n",
    "def count_channel_label(channel_ls, label_map=CHANNEL_LABEL_MAP):\n",
    "    label_ls = []\n",
    "    for c in channel_ls:\n",
    "        if c in label_map.keys():\n",
    "            if c == \"UCKY8HrMpm32WAMK0lauLAZA\":\n",
    "                lab = get_channel_label(c, label_map=label_map, before_after=\"after\")\n",
    "            else:\n",
    "                lab = get_channel_label(c, label_map=label_map)\n",
    "            label_ls.append(lab)\n",
    "    label_counter = {-1:0, 0:0, 1:0}\n",
    "    for l in label_ls:\n",
    "        label_counter[l] += 1\n",
    "    return label_counter\n",
    "\n",
    "def count_channel_label_temporal(channel_time_ls, label_map=CHANNEL_LABEL_MAP):\n",
    "    label_ls = []\n",
    "    for c,time in channel_time_ls:\n",
    "        if c in label_map.keys():\n",
    "            if c == \"UCKY8HrMpm32WAMK0lauLAZA\":\n",
    "                if time <= pd.to_datetime(\"2020-08-01 00:00:00\"):\n",
    "                    lab = get_channel_label(c, label_map=label_map, before_after=\"before\")\n",
    "                else:\n",
    "                    lab = get_channel_label(c, label_map=label_map, before_after=\"after\")\n",
    "            else:\n",
    "                lab = get_channel_label(c, label_map=label_map)\n",
    "            label_ls.append(lab)\n",
    "    label_counter = {-1:0, 0:0, 1:0}\n",
    "    for l in label_ls:\n",
    "        label_counter[l] += 1\n",
    "    return label_counter\n"
   ]
  },
  {
   "cell_type": "code",
   "execution_count": 9,
   "metadata": {},
   "outputs": [],
   "source": [
    "view_aggr[\"view_labs\"] = view_aggr[\"channel_id_time\"].map(lambda x: count_channel_label_temporal(x))\n",
    "subscribe_aggr[\"subscribe_labs\"] = subscribe_aggr[\"channel_id\"].map(lambda x: count_channel_label(x))\n",
    "comment_aggr[\"comment_labs\"] = comment_aggr[\"channel_id\"].map(lambda x: count_channel_label(x))\n"
   ]
  },
  {
   "cell_type": "code",
   "execution_count": null,
   "metadata": {},
   "outputs": [],
   "source": [
    "cols = [\"respondent_id\", \"weight\", \"gender\", \"age\", \"interest_politics\", \"education\", \"feel_thm_fdsz\", \"lftRght\"]\n",
    "reg_table = pol_df[cols].merge(view_aggr, on=\"respondent_id\", how=\"left\")\n",
    "reg_table = reg_table.merge(subscribe_aggr, on=\"respondent_id\", how=\"left\")\n",
    "reg_table = reg_table.merge(comment_aggr, on=\"respondent_id\", how=\"left\")\n",
    "\n",
    "for activity in [\"view\", \"subscribe\", \"comment\"]:\n",
    "    reg_table[f\"{activity}_anti\"] = reg_table[f\"{activity}_labs\"].map(lambda x:x[-1] if str(x)!=\"nan\" else 0)\n",
    "    reg_table[f\"{activity}_netr\"] = reg_table[f\"{activity}_labs\"].map(lambda x:x[0] if str(x)!=\"nan\" else 0)\n",
    "    reg_table[f\"{activity}_pro\"] = reg_table[f\"{activity}_labs\"].map(lambda x:x[1] if str(x)!=\"nan\" else 0)\n",
    "\n",
    "reg_table.drop(columns=[\"channel_id_time\", \"channel_id_x\", \"channel_id_y\", \"view_labs\"], inplace=True)\n"
   ]
  },
  {
   "cell_type": "code",
   "execution_count": 11,
   "metadata": {},
   "outputs": [],
   "source": [
    "def bin_variable(val, var_range):\n",
    "    out = 0\n",
    "    if not np.isnan(val):\n",
    "        if val <= var_range[1] and val >= var_range[0]:\n",
    "            out = 1\n",
    "    return out\n",
    "\n",
    "reg_table[\"if_left\"] = reg_table[\"lftRght\"].map(lambda x: bin_variable(x, [1,3]))\n",
    "reg_table[\"if_center\"] = reg_table[\"lftRght\"].map(lambda x: bin_variable(x, [4,4]))\n",
    "reg_table[\"if_right\"] = reg_table[\"lftRght\"].map(lambda x: bin_variable(x, [5,7]))\n",
    "reg_table[\"if_antigov\"] = reg_table[\"feel_thm_fdsz\"].map(lambda x: bin_variable(x, [0,2]))\n",
    "reg_table[\"if_neutral\"] = reg_table[\"feel_thm_fdsz\"].map(lambda x: bin_variable(x, [3,7]))\n",
    "reg_table[\"if_progov\"] = reg_table[\"feel_thm_fdsz\"].map(lambda x: bin_variable(x, [8,10]))"
   ]
  },
  {
   "cell_type": "code",
   "execution_count": 12,
   "metadata": {},
   "outputs": [],
   "source": [
    "reg_table.to_csv(\"../../output/reg_table_nonfilter_channel_catg_counts.csv\", index=False)"
   ]
  },
  {
   "cell_type": "code",
   "execution_count": null,
   "metadata": {},
   "outputs": [],
   "source": []
  },
  {
   "cell_type": "code",
   "execution_count": null,
   "metadata": {},
   "outputs": [],
   "source": []
  }
 ],
 "metadata": {
  "kernelspec": {
   "display_name": "bias-pol-comm",
   "language": "python",
   "name": "python3"
  },
  "language_info": {
   "codemirror_mode": {
    "name": "ipython",
    "version": 3
   },
   "file_extension": ".py",
   "mimetype": "text/x-python",
   "name": "python",
   "nbconvert_exporter": "python",
   "pygments_lexer": "ipython3",
   "version": "3.9.13"
  }
 },
 "nbformat": 4,
 "nbformat_minor": 2
}
